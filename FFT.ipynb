{
  "nbformat": 4,
  "nbformat_minor": 0,
  "metadata": {
    "colab": {
      "name": "FFT.ipynb",
      "provenance": [],
      "collapsed_sections": [
        "r2YkkbkxboWJ",
        "ldnrS9pMsQsc",
        "zlgsCKdijsHu"
      ]
    },
    "kernelspec": {
      "name": "python3",
      "display_name": "Python 3"
    }
  },
  "cells": [
    {
      "cell_type": "code",
      "metadata": {
        "id": "oeztonhI0knR"
      },
      "source": [
        "\n",
        "#FFT ALGO\n",
        "import math\n",
        "from cmath import exp,pi"
      ],
      "execution_count": null,
      "outputs": []
    },
    {
      "cell_type": "markdown",
      "metadata": {
        "id": "_w6bBUSQ4u7S"
      },
      "source": [
        "# DIT"
      ]
    },
    {
      "cell_type": "code",
      "metadata": {
        "id": "H26-kg2h4ovq"
      },
      "source": [
        "def W(A,B,n=0):\n",
        "  a=A+B*exp(-1j*pi*n/4)\n",
        "  a=complex(round(a.real,3),round(a.imag,3))\n",
        "  b=A-B*exp(-1j*pi*n/4)\n",
        "  b=complex(round(b.real,3),round(b.imag,3))\n",
        "  return([a,b])"
      ],
      "execution_count": null,
      "outputs": []
    },
    {
      "cell_type": "code",
      "metadata": {
        "colab": {
          "base_uri": "https://localhost:8080/"
        },
        "id": "MJIWu7-P_EV3",
        "outputId": "e3adef46-6793-4bf9-a0a6-c1c42d0e2015"
      },
      "source": [
        "W(1,4)"
      ],
      "execution_count": null,
      "outputs": [
        {
          "output_type": "execute_result",
          "data": {
            "text/plain": [
              "[(5+0j), (-3+0j)]"
            ]
          },
          "metadata": {
            "tags": []
          },
          "execution_count": 102
        }
      ]
    },
    {
      "cell_type": "code",
      "metadata": {
        "id": "DI6sO_Zu_4eh"
      },
      "source": [
        "#Stage 1"
      ],
      "execution_count": null,
      "outputs": []
    },
    {
      "cell_type": "code",
      "metadata": {
        "id": "ETQphe2n_6QK"
      },
      "source": [
        "def stage1(x):\n",
        "  a=W(x[0],x[4])\n",
        "  b=W(x[2],x[6])\n",
        "  c=W(x[1],x[5])\n",
        "  d=W(x[3],x[7])\n",
        "  return([a[0],a[1],b[0],b[1],c[0],c[1],d[0],d[1]])\n",
        "  \n"
      ],
      "execution_count": null,
      "outputs": []
    },
    {
      "cell_type": "code",
      "metadata": {
        "id": "47nQD2VkHJ3l"
      },
      "source": [
        "#Stage 2"
      ],
      "execution_count": null,
      "outputs": []
    },
    {
      "cell_type": "code",
      "metadata": {
        "id": "mBpOCX7EHi2-"
      },
      "source": [
        "def stage2(x):\n",
        "  a=W(stage1(x)[0],stage1(x)[2])\n",
        "  b=W(stage1(x)[1],stage1(x)[3],2)\n",
        "  c=W(stage1(x)[4],stage1(x)[6])\n",
        "  d=W(stage1(x)[5],stage1(x)[7],2)\n",
        "  return([a[0],b[0],a[1],b[1],c[0],d[0],c[1],d[1]])\n",
        "  \n"
      ],
      "execution_count": null,
      "outputs": []
    },
    {
      "cell_type": "code",
      "metadata": {
        "id": "LDSElchyKsC_"
      },
      "source": [
        "#Stage 3"
      ],
      "execution_count": null,
      "outputs": []
    },
    {
      "cell_type": "code",
      "metadata": {
        "id": "0o29lQQ3KwYV"
      },
      "source": [
        "def stage3(x):\n",
        "  a=W(stage2(x)[0],stage2(x)[4])\n",
        "  b=W(stage2(x)[1],stage2(x)[5],1)\n",
        "  c=W(stage2(x)[2],stage2(x)[6],2)\n",
        "  d=W(stage2(x)[3],stage2(x)[7],3)\n",
        "  return([a[0],b[0],c[0],d[0],a[1],b[1],c[1],d[1]])"
      ],
      "execution_count": null,
      "outputs": []
    },
    {
      "cell_type": "code",
      "metadata": {
        "id": "CuT61vG-Lz1v"
      },
      "source": [
        "def DIT_FFT(x):\n",
        "  print('Stage1',stage1(x))\n",
        "  print('Stage2',stage2(x))\n",
        "  print('Stage3',stage3(x))\n",
        "  return "
      ],
      "execution_count": null,
      "outputs": []
    },
    {
      "cell_type": "code",
      "metadata": {
        "colab": {
          "base_uri": "https://localhost:8080/"
        },
        "id": "K21PqQQ_Mq52",
        "outputId": "1ec2c681-136f-431f-ff02-ef84b62a13f6"
      },
      "source": [
        "DIT_FFT([0.5,0.5,0.5,0.5,0,0,0,0])"
      ],
      "execution_count": null,
      "outputs": [
        {
          "output_type": "stream",
          "text": [
            "Stage1 [(0.5+0j), (0.5+0j), (0.5+0j), (0.5+0j), (0.5+0j), (0.5+0j), (0.5+0j), (0.5+0j)]\n",
            "Stage2 [(1+0j), (0.5-0.5j), 0j, (0.5+0.5j), (1+0j), (0.5-0.5j), 0j, (0.5+0.5j)]\n",
            "Stage3 [(2+0j), (0.5-1.207j), 0j, (0.5-0.207j), 0j, (0.5+0.207j), 0j, (0.5+1.207j)]\n"
          ],
          "name": "stdout"
        }
      ]
    },
    {
      "cell_type": "markdown",
      "metadata": {
        "id": "mgU4fCe6Qtxs"
      },
      "source": [
        "# INVERSE DIT FFT"
      ]
    },
    {
      "cell_type": "code",
      "metadata": {
        "id": "KBL3o9yeQwad"
      },
      "source": [
        "def INV_DIT_FFT(x):\n",
        "  a=[]\n",
        "  for i in x:\n",
        "    a.append(i.conjugate())\n",
        "  print('Stage1',stage1(a))\n",
        "  print('Stage2',stage2(a))\n",
        "  print('Stage3',stage3(a))\n",
        "  return "
      ],
      "execution_count": null,
      "outputs": []
    },
    {
      "cell_type": "code",
      "metadata": {
        "colab": {
          "base_uri": "https://localhost:8080/"
        },
        "id": "P7_GSzTOWbIw",
        "outputId": "376ebf12-2b93-4631-e1de-1c572e971aee"
      },
      "source": [
        "INV_DIT_FFT([7,-0.707-0.707j,-1j,0.707-0.707j,1,0.707+0.707j,1j,-0.707+0.707j])"
      ],
      "execution_count": null,
      "outputs": [
        {
          "output_type": "stream",
          "text": [
            "Stage1 [(8+0j), (6+0j), 0j, (-0+2j), 0j, (-1.414+1.414j), 0j, (1.414+1.414j)]\n",
            "Stage2 [(8+0j), (8+0j), (8+0j), (4-0j), 0j, 0j, 0j, (-2.828+2.828j)]\n",
            "Stage3 [(8+0j), (8+0j), (8+0j), (7.999+0j), (8+0j), (8+0j), (8+0j), (0.001-0j)]\n"
          ],
          "name": "stdout"
        }
      ]
    },
    {
      "cell_type": "markdown",
      "metadata": {
        "id": "r2YkkbkxboWJ"
      },
      "source": [
        "# DIF FFT"
      ]
    },
    {
      "cell_type": "code",
      "metadata": {
        "id": "m3AcChiYcMtB"
      },
      "source": [
        "def W_(A,B,n=0):\n",
        "  a=A+B\n",
        "  a=complex(round(a.real,3),round(a.imag,3))\n",
        "  b=(A-B)*exp(-1j*pi*n/4)\n",
        "  b=complex(round(b.real,3),round(b.imag,3))\n",
        "  return([a,b])"
      ],
      "execution_count": null,
      "outputs": []
    },
    {
      "cell_type": "code",
      "metadata": {
        "id": "0SFKZEQfc0sT"
      },
      "source": [
        "def stage1_(x):\n",
        "  a=W_(x[0],x[4])\n",
        "  b=W_(x[1],x[5],1)\n",
        "  c=W_(x[2],x[6],2)\n",
        "  d=W_(x[3],x[7],3)\n",
        "  return([a[0],b[0],c[0],d[0],a[1],b[1],c[1],d[1]]) "
      ],
      "execution_count": null,
      "outputs": []
    },
    {
      "cell_type": "code",
      "metadata": {
        "id": "6dbo4wwpezDt"
      },
      "source": [
        "def stage2_(x):\n",
        "  a=W_(stage1_(x)[0],stage1_(x)[2])\n",
        "  b=W_(stage1_(x)[1],stage1_(x)[3],2)\n",
        "  c=W_(stage1_(x)[4],stage1_(x)[6])\n",
        "  d=W_(stage1_(x)[5],stage1_(x)[7],2)\n",
        "  return([a[0],b[0],a[1],b[1],c[0],d[0],c[1],d[1]])"
      ],
      "execution_count": null,
      "outputs": []
    },
    {
      "cell_type": "code",
      "metadata": {
        "id": "Ida0UEUcgHPm"
      },
      "source": [
        "def stage3_(x):\n",
        "  a=W_(stage2_(x)[0],stage2_(x)[1])\n",
        "  b=W_(stage2_(x)[2],stage2_(x)[3])\n",
        "  c=W_(stage2_(x)[4],stage2_(x)[5])\n",
        "  d=W_(stage2_(x)[6],stage2_(x)[7])\n",
        "  return([a[0],a[1],b[0],b[1],c[0],c[1],d[0],d[1]])\n",
        "  \n",
        "\n"
      ],
      "execution_count": null,
      "outputs": []
    },
    {
      "cell_type": "code",
      "metadata": {
        "id": "0inUd4_ghFZq"
      },
      "source": [
        "def DIF_FFT(x):\n",
        "  print('Stage1',stage1_(x))\n",
        "  print('Stage2',stage2_(x))\n",
        "  print('Stage3',stage3_(x))\n",
        "  return "
      ],
      "execution_count": null,
      "outputs": []
    },
    {
      "cell_type": "code",
      "metadata": {
        "colab": {
          "base_uri": "https://localhost:8080/"
        },
        "id": "7fd9x7QehOIz",
        "outputId": "4225b080-61a0-4e25-9f47-cb6c954bc764"
      },
      "source": [
        "DIF_FFT([0.5,0.5,0.5,0.5,0,0,0,0])"
      ],
      "execution_count": null,
      "outputs": [
        {
          "output_type": "stream",
          "text": [
            "Stage1 [(0.5+0j), (0.5+0j), (0.5+0j), (0.5+0j), (0.5+0j), (0.354-0.354j), -0.5j, (-0.354-0.354j)]\n",
            "Stage2 [(1+0j), (1+0j), 0j, 0j, (0.5-0.5j), -0.708j, (0.5+0.5j), -0.708j]\n",
            "Stage3 [(2+0j), 0j, 0j, 0j, (0.5-1.208j), (0.5+0.208j), (0.5-0.208j), (0.5+1.208j)]\n"
          ],
          "name": "stdout"
        }
      ]
    },
    {
      "cell_type": "markdown",
      "metadata": {
        "id": "ldnrS9pMsQsc"
      },
      "source": [
        "# INVERSE DIF FFT"
      ]
    },
    {
      "cell_type": "code",
      "metadata": {
        "id": "RTeR8jIKrlJz"
      },
      "source": [
        "def INV_DIF_FFT(x):\n",
        "  a=[]\n",
        "  for i in x:\n",
        "    a.append(i.conjugate())\n",
        "  print('Stage1',stage1_(a))\n",
        "  print('Stage2',stage2_(a))\n",
        "  print('Stage3',stage3_(a))\n",
        "  return "
      ],
      "execution_count": null,
      "outputs": []
    },
    {
      "cell_type": "code",
      "metadata": {
        "colab": {
          "base_uri": "https://localhost:8080/"
        },
        "id": "MSWLa3vsscL7",
        "outputId": "bf850b92-ec1e-4fb6-ba65-7d7cad499226"
      },
      "source": [
        "INV_DIF_FFT([4,1-2.414j,0,1-0.414j,0,1+0.414j,0,1+2.414j])"
      ],
      "execution_count": null,
      "outputs": [
        {
          "output_type": "stream",
          "text": [
            "Stage1 [(4+0j), (2+2j), 0j, (2-2j), (4+0j), (2+2j), 0j, (2-2j)]\n",
            "Stage2 [(4+0j), (4+0j), (4+0j), (4+0j), (4+0j), (4+0j), (4+0j), (4+0j)]\n",
            "Stage3 [(8+0j), 0j, (8+0j), 0j, (8+0j), 0j, (8+0j), 0j]\n"
          ],
          "name": "stdout"
        }
      ]
    },
    {
      "cell_type": "markdown",
      "metadata": {
        "id": "zlgsCKdijsHu"
      },
      "source": [
        "# INVERSE LAGRANGE INREPOLATION"
      ]
    },
    {
      "cell_type": "code",
      "metadata": {
        "colab": {
          "base_uri": "https://localhost:8080/"
        },
        "id": "9LauVl3IUPSw",
        "outputId": "9a964ae5-3327-4c1d-d8b8-338ac04fc6fe"
      },
      "source": [
        "  \n",
        "# inverse interpolation \n",
        "  \n",
        "# Consider a structure \n",
        "# to keep each pair of \n",
        "# x and y together \n",
        "class Data: \n",
        "    def __init__(self, x, y): \n",
        "        self.x = x \n",
        "        self.y = y \n",
        "  \n",
        "def inv_interpolate(d: list, n: int,  \n",
        "                    y: float) -> float: \n",
        "  \n",
        "    \n",
        "    x = 0\n",
        "  \n",
        "    for i in range(n): \n",
        "  \n",
        "        # Calculate each term \n",
        "        # of the given formula \n",
        "        xi = d[i].x \n",
        "        for j in range(n): \n",
        "            if j != i: \n",
        "                xi = (xi * (y - d[j].y) / \n",
        "                      (d[i].y - d[j].y)) \n",
        "  \n",
        "        # Add term to final result \n",
        "        x += xi \n",
        "    return x \n",
        "  \n",
        "# Driver Code \n",
        "if __name__ == \"__main__\": \n",
        "  \n",
        "    # Sample dataset of 4 points \n",
        "    # Here we find the value \n",
        "    # of x when y = 4.5 \n",
        "    d = [Data(0, 2),  \n",
        "         Data(1, 3),  \n",
        "         Data(2, 12),  \n",
        "         Data(5, 147)] \n",
        "  \n",
        "    # Size of dataset \n",
        "    n = 4\n",
        "  \n",
        "    # Sample y value \n",
        "    y = 28\n",
        "  \n",
        "    # Using the Inverse Interpolation \n",
        "    # function to find the \n",
        "    # value of x when y = 4.5 \n",
        "    print(\"Value of x at y = {} :\".format(y) ,  \n",
        "           round(inv_interpolate(d, n, y), 5)"
      ],
      "execution_count": null,
      "outputs": [
        {
          "output_type": "stream",
          "text": [
            "Value of x at y = 28 : -25.44657\n"
          ],
          "name": "stdout"
        }
      ]
    },
    {
      "cell_type": "code",
      "metadata": {
        "colab": {
          "base_uri": "https://localhost:8080/",
          "height": 169
        },
        "id": "Z2Az4pRz-Uii",
        "outputId": "97a7b02a-133c-4fc6-95c5-081e2a75e91a"
      },
      "source": [
        "eval()"
      ],
      "execution_count": null,
      "outputs": [
        {
          "output_type": "error",
          "ename": "NameError",
          "evalue": "ignored",
          "traceback": [
            "\u001b[0;31m---------------------------------------------------------------------------\u001b[0m",
            "\u001b[0;31mNameError\u001b[0m                                 Traceback (most recent call last)",
            "\u001b[0;32m<ipython-input-3-03000f9c2a58>\u001b[0m in \u001b[0;36m<module>\u001b[0;34m()\u001b[0m\n\u001b[0;32m----> 1\u001b[0;31m \u001b[0meval\u001b[0m\u001b[0;34m(\u001b[0m\u001b[0md\u001b[0m\u001b[0;34m)\u001b[0m\u001b[0;34m\u001b[0m\u001b[0;34m\u001b[0m\u001b[0m\n\u001b[0m",
            "\u001b[0;31mNameError\u001b[0m: name 'd' is not defined"
          ]
        }
      ]
    },
    {
      "cell_type": "code",
      "metadata": {
        "colab": {
          "base_uri": "https://localhost:8080/"
        },
        "id": "-u2QJmBK9ohM",
        "outputId": "65708d21-bfcf-41b9-ba05-1df380697d66"
      },
      "source": [
        ""
      ],
      "execution_count": null,
      "outputs": [
        {
          "output_type": "stream",
          "text": [
            "[INFO   ] [Logger      ] Record log in /root/.kivy/logs/kivy_21-03-18_1.txt\n",
            "[INFO   ] [Kivy        ] v2.0.0\n",
            "[INFO   ] [Kivy        ] Installed at \"/usr/local/lib/python3.7/dist-packages/kivy/__init__.py\"\n",
            "[INFO   ] [Python      ] v3.7.10 (default, Feb 20 2021, 21:17:23) \n",
            "[GCC 7.5.0]\n",
            "[INFO   ] [Python      ] Interpreter at \"/usr/bin/python3\"\n",
            "[INFO   ] [Factory     ] 186 symbols loaded\n",
            "[INFO   ] [Image       ] Providers: img_tex, img_dds, img_sdl2, img_pil (img_ffpyplayer ignored)\n",
            "[INFO   ] [Text        ] Provider: sdl2\n",
            "[INFO   ] [Window      ] Provider: sdl2\n",
            "[INFO   ] [Window      ] Provider: x11(['window_sdl2'] ignored)\n"
          ],
          "name": "stderr"
        }
      ]
    },
    {
      "cell_type": "code",
      "metadata": {
        "colab": {
          "base_uri": "https://localhost:8080/"
        },
        "id": "4g27Zmjv-yja",
        "outputId": "1e807687-09bb-4fca-8cac-2e5504033a38"
      },
      "source": [
        ""
      ],
      "execution_count": null,
      "outputs": [
        {
          "output_type": "stream",
          "text": [
            "[INFO   ] [Logger      ] Record log in /root/.kivy/logs/kivy_21-03-18_6.txt\n",
            "[INFO   ] [Kivy        ] v2.0.0\n",
            "[INFO   ] [Kivy        ] Installed at \"/usr/local/lib/python3.7/dist-packages/kivy/__init__.py\"\n",
            "[INFO   ] [Python      ] v3.7.10 (default, Feb 20 2021, 21:17:23) \n",
            "[GCC 7.5.0]\n",
            "[INFO   ] [Python      ] Interpreter at \"/usr/bin/python3\"\n",
            "[INFO   ] [Factory     ] 186 symbols loaded\n",
            "[INFO   ] [Image       ] Providers: img_tex, img_dds, img_sdl2, img_pil (img_ffpyplayer ignored)\n",
            "[INFO   ] [Text        ] Provider: sdl2\n",
            "[INFO   ] [Window      ] Provider: sdl2\n",
            "[INFO   ] [Window      ] Provider: x11(['window_sdl2'] ignored)\n"
          ],
          "name": "stderr"
        }
      ]
    },
    {
      "cell_type": "code",
      "metadata": {
        "id": "-CSySmBZ-2Xt",
        "colab": {
          "base_uri": "https://localhost:8080/"
        },
        "outputId": "a190f042-141a-481e-e007-90d4c0586bb5"
      },
      "source": [
        "a='1+1j,2'\n",
        "li=a.split(',')\n",
        "ki=[]\n",
        "for i in li:\n",
        "  ki.append(complex(i))\n",
        "ki"
      ],
      "execution_count": null,
      "outputs": [
        {
          "output_type": "execute_result",
          "data": {
            "text/plain": [
              "[(1+1j), (2+0j)]"
            ]
          },
          "metadata": {
            "tags": []
          },
          "execution_count": 8
        }
      ]
    },
    {
      "cell_type": "code",
      "metadata": {
        "id": "a6pusmSl5ept"
      },
      "source": [
        "dict_1={}\n",
        "dict_1['s1']='s'"
      ],
      "execution_count": null,
      "outputs": []
    },
    {
      "cell_type": "code",
      "metadata": {
        "colab": {
          "base_uri": "https://localhost:8080/"
        },
        "id": "GG1RDKE55nis",
        "outputId": "c864779a-acdf-4647-8e5a-680c9eafa3b9"
      },
      "source": [
        "dict_1"
      ],
      "execution_count": null,
      "outputs": [
        {
          "output_type": "execute_result",
          "data": {
            "text/plain": [
              "{'s1': 's'}"
            ]
          },
          "metadata": {
            "tags": []
          },
          "execution_count": 10
        }
      ]
    },
    {
      "cell_type": "code",
      "metadata": {
        "id": "wOHDeX-T8dr-"
      },
      "source": [
        "def a():\n",
        "  return 1,2\n"
      ],
      "execution_count": null,
      "outputs": []
    },
    {
      "cell_type": "code",
      "metadata": {
        "colab": {
          "base_uri": "https://localhost:8080/"
        },
        "id": "BRYg-mV03-nj",
        "outputId": "025ecf01-9f6a-4041-80bb-73787a0ecd39"
      },
      "source": [
        "a=22\n",
        "b=7\n",
        "round((a/b),3)"
      ],
      "execution_count": null,
      "outputs": [
        {
          "output_type": "execute_result",
          "data": {
            "text/plain": [
              "3.143"
            ]
          },
          "metadata": {
            "tags": []
          },
          "execution_count": 2
        }
      ]
    },
    {
      "cell_type": "code",
      "metadata": {
        "colab": {
          "base_uri": "https://localhost:8080/"
        },
        "id": "u0_l9unN9aS6",
        "outputId": "96592388-35a8-409d-ce12-3b88cd5fb03b"
      },
      "source": [
        "x=3\n",
        "a=x^2+x+3\n",
        "\n",
        "a"
      ],
      "execution_count": null,
      "outputs": [
        {
          "output_type": "execute_result",
          "data": {
            "text/plain": [
              "11"
            ]
          },
          "metadata": {
            "tags": []
          },
          "execution_count": 2
        }
      ]
    },
    {
      "cell_type": "markdown",
      "metadata": {
        "id": "ACsEwldPVO64"
      },
      "source": [
        "# Secant Method"
      ]
    },
    {
      "cell_type": "code",
      "metadata": {
        "id": "lJuawMl6VEmI"
      },
      "source": [
        "from math import sin,cos,log,pi\n",
        "from math import cos\n",
        "from math import log\n",
        "from math import e\n",
        "from math import pi"
      ],
      "execution_count": null,
      "outputs": []
    },
    {
      "cell_type": "code",
      "metadata": {
        "id": "gfrzMnbbowgj"
      },
      "source": [
        "def funct(fun,h,correct=2):\n",
        "\n",
        "  fun_=fun.replace('x',h)\n",
        "  #fun_.format(h,h)\n",
        "  round(eval(fun_),correct)\n",
        "  \n",
        "  return round(eval(fun_),correct)"
      ],
      "execution_count": null,
      "outputs": []
    },
    {
      "cell_type": "code",
      "metadata": {
        "id": "_5hybnqF3yrX"
      },
      "source": [
        "def secant(fun,a,b,correct):\n",
        "  d={}\n",
        "  d['x'+str(0)]=a\n",
        "  d['x'+str(1)]=b\n",
        "  for i in range(1,6):\n",
        "    d['x'+str(i+1)]=round(float(d['x'+str(i-1)])-((float(d['x'+str(i)])-float(d['x'+str(i-1)]))*funct(fun,str(d['x'+str(i-1)]),correct+2)/(funct(fun,str(d['x'+str(i)]),correct+2)-funct(fun,str(d['x'+str(i-1)]),correct+2))),correct+2)\n",
        "     \n",
        "  \n",
        "  return d"
      ],
      "execution_count": null,
      "outputs": []
    },
    {
      "cell_type": "code",
      "metadata": {
        "colab": {
          "base_uri": "https://localhost:8080/"
        },
        "id": "cjI9z0VosS8Z",
        "outputId": "11c05723-d5b2-47a1-e48d-fef05f010f8a"
      },
      "source": [
        "secant('cos(x)-x*e**x',0,1,2)"
      ],
      "execution_count": null,
      "outputs": [
        {
          "output_type": "execute_result",
          "data": {
            "text/plain": [
              "{'x0': 0,\n",
              " 'x1': 1,\n",
              " 'x2': 0.3147,\n",
              " 'x3': 0.4467,\n",
              " 'x4': 0.5317,\n",
              " 'x5': 0.5169,\n",
              " 'x6': 0.5177}"
            ]
          },
          "metadata": {
            "tags": []
          },
          "execution_count": 56
        }
      ]
    },
    {
      "cell_type": "markdown",
      "metadata": {
        "id": "oa0W2BEWxW8p"
      },
      "source": [
        "# Newton Raphson Method"
      ]
    },
    {
      "cell_type": "code",
      "metadata": {
        "id": "GCSQ8TmbyPfY"
      },
      "source": [
        "def funct(fun,h,correct):\n",
        "\n",
        "  fun_=fun.replace('x',h)\n",
        "  #fun_.format(h,h)\n",
        "  round(eval(fun_),correct)\n",
        "  \n",
        "  return round(eval(fun_),correct)"
      ],
      "execution_count": null,
      "outputs": []
    },
    {
      "cell_type": "code",
      "metadata": {
        "id": "wFiKdMmFy0pv"
      },
      "source": [
        "from sympy import*\n",
        "#log,cos,sin,Derivative,symbols,pi\n",
        "#from math import exp as e\n",
        "def derivative(fun):\n",
        " x=symbols('x')\n",
        " return str(Derivative(fun,x))"
      ],
      "execution_count": null,
      "outputs": []
    },
    {
      "cell_type": "code",
      "metadata": {
        "colab": {
          "base_uri": "https://localhost:8080/",
          "height": 169
        },
        "id": "MPZFg5NLzIb5",
        "outputId": "c95e7fc3-7eff-4772-a854-a0e8151f7f79"
      },
      "source": [
        "derivative(x**2)"
      ],
      "execution_count": null,
      "outputs": [
        {
          "output_type": "error",
          "ename": "NameError",
          "evalue": "ignored",
          "traceback": [
            "\u001b[0;31m---------------------------------------------------------------------------\u001b[0m",
            "\u001b[0;31mNameError\u001b[0m                                 Traceback (most recent call last)",
            "\u001b[0;32m<ipython-input-3-020d6be0edba>\u001b[0m in \u001b[0;36m<module>\u001b[0;34m()\u001b[0m\n\u001b[0;32m----> 1\u001b[0;31m \u001b[0mderivative\u001b[0m\u001b[0;34m(\u001b[0m\u001b[0mx\u001b[0m\u001b[0;34m**\u001b[0m\u001b[0;36m2\u001b[0m\u001b[0;34m)\u001b[0m\u001b[0;34m\u001b[0m\u001b[0;34m\u001b[0m\u001b[0m\n\u001b[0m",
            "\u001b[0;31mNameError\u001b[0m: name 'x' is not defined"
          ]
        }
      ]
    },
    {
      "cell_type": "code",
      "metadata": {
        "id": "Bs5dU0buZlsx"
      },
      "source": [
        ""
      ],
      "execution_count": null,
      "outputs": []
    },
    {
      "cell_type": "code",
      "metadata": {
        "colab": {
          "base_uri": "https://localhost:8080/",
          "height": 37
        },
        "id": "tFaaHy-dzucc",
        "outputId": "6788b33a-cd24-405a-8cec-4a969057a3c3"
      },
      "source": [
        "x=symbols('x')\n",
        "ex=Derivative('x**2',x).doit()\n",
        "ex**2\n",
        "x=2\n",
        "ex"
      ],
      "execution_count": null,
      "outputs": [
        {
          "output_type": "execute_result",
          "data": {
            "text/latex": "$\\displaystyle 2 x$",
            "text/plain": [
              "2*x"
            ]
          },
          "metadata": {
            "tags": []
          },
          "execution_count": 4
        }
      ]
    },
    {
      "cell_type": "code",
      "metadata": {
        "id": "qFUyZcN71R9A"
      },
      "source": [
        "x=symbols('x')"
      ],
      "execution_count": null,
      "outputs": []
    },
    {
      "cell_type": "code",
      "metadata": {
        "colab": {
          "base_uri": "https://localhost:8080/"
        },
        "id": "q4uOq_P90k0e",
        "outputId": "92c406cf-e33f-4f43-864c-5d5c39a28209"
      },
      "source": [
        "funct(str(ex),'1',2)"
      ],
      "execution_count": null,
      "outputs": [
        {
          "output_type": "execute_result",
          "data": {
            "text/plain": [
              "2"
            ]
          },
          "metadata": {
            "tags": []
          },
          "execution_count": 28
        }
      ]
    },
    {
      "cell_type": "code",
      "metadata": {
        "colab": {
          "base_uri": "https://localhost:8080/",
          "height": 36
        },
        "id": "lhWwz2fPD898",
        "outputId": "cb853093-e933-46b0-fd6c-723a12d8b976"
      },
      "source": [
        "funct(str(Derivative('x*log(x,10)-1.2',x).doit()),'3',8)"
      ],
      "execution_count": null,
      "outputs": [
        {
          "output_type": "execute_result",
          "data": {
            "text/latex": "$\\displaystyle 0.91141574$",
            "text/plain": [
              "0.91141574"
            ]
          },
          "metadata": {
            "tags": []
          },
          "execution_count": 22
        }
      ]
    },
    {
      "cell_type": "code",
      "metadata": {
        "id": "mXF_GuOb1WQR"
      },
      "source": [
        "\n",
        "def N_R(fun,a,b,correct):\n",
        "  d={}\n",
        "  d['x'+str(0)]=(a+b)/2\n",
        "  for i in range(1,6):\n",
        "    d['x'+str(i)]=round(d['x'+str(i-1)]-round(funct(fun,str(d['x'+str(i-1)]),correct+2)/funct(str(Derivative(fun,x).doit()),str(d['x'+str(i-1)]),correct+2),correct+2),correct+2)\n",
        "  return d\n",
        "\n",
        "     "
      ],
      "execution_count": null,
      "outputs": []
    },
    {
      "cell_type": "code",
      "metadata": {
        "colab": {
          "base_uri": "https://localhost:8080/"
        },
        "id": "mjxP02aG6Tvr",
        "outputId": "250a18a0-fb09-4780-fd72-a66856f3d70e"
      },
      "source": [
        "N_R('x',1,2,4)"
      ],
      "execution_count": null,
      "outputs": [
        {
          "output_type": "execute_result",
          "data": {
            "text/plain": [
              "{'x0': 1.5, 'x1': 0.0, 'x2': 0.0, 'x3': 0.0, 'x4': 0.0, 'x5': 0.0}"
            ]
          },
          "metadata": {
            "tags": []
          },
          "execution_count": 15
        }
      ]
    },
    {
      "cell_type": "code",
      "metadata": {
        "colab": {
          "base_uri": "https://localhost:8080/"
        },
        "id": "zqgHoNGMo3ir",
        "outputId": "d1afe0c4-3f3d-4afc-dcf8-66432d727052"
      },
      "source": [
        "a='2'\n",
        "a=int(a)\n",
        "a"
      ],
      "execution_count": null,
      "outputs": [
        {
          "output_type": "execute_result",
          "data": {
            "text/plain": [
              "2"
            ]
          },
          "metadata": {
            "tags": []
          },
          "execution_count": 14
        }
      ]
    },
    {
      "cell_type": "code",
      "metadata": {
        "id": "h4upFEeKG9yN"
      },
      "source": [
        ""
      ],
      "execution_count": null,
      "outputs": []
    }
  ]
}